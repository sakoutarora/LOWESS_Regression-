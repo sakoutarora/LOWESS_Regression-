{
 "cells": [
  {
   "cell_type": "code",
   "execution_count": 1,
   "id": "98950f70",
   "metadata": {},
   "outputs": [],
   "source": [
    "import numpy as np \n",
    "import matplotlib.pyplot as plt \n",
    "import math\n",
    "%matplotlib inline"
   ]
  },
  {
   "cell_type": "code",
   "execution_count": 2,
   "id": "7a9cd536",
   "metadata": {},
   "outputs": [
    {
     "data": {
      "image/png": "[encoded data removed]",
      "text/plain": [
       "<Figure size 432x288 with 1 Axes>"
      ]
     },
     "metadata": {
      "needs_background": "light"
     },
     "output_type": "display_data"
    }
   ],
   "source": [
    "x = np.linspace(-1,5,200).reshape(-1,1)\n",
    "y = 5*np.cos(x) + x + 0.5*np.random.randn(len(x),1)\n",
    "plt.scatter(x,y )\n",
    "plt.show()"
   ]
  },
  {
   "cell_type": "code",
   "execution_count": 3,
   "id": "11dd23ff",
   "metadata": {},
   "outputs": [],
   "source": [
    "data = np.concatenate([x.reshape(-1,1), y.reshape(-1,1)],axis = 1 )"
   ]
  },
  {
   "cell_type": "code",
   "execution_count": 4,
   "id": "7635085e",
   "metadata": {},
   "outputs": [],
   "source": [
    "np.random.shuffle(data)"
   ]
  },
  {
   "cell_type": "markdown",
   "id": "f525501a",
   "metadata": {},
   "source": [
    "Trying LOWESS regression"
   ]
  },
  {
   "cell_type": "code",
   "execution_count": 5,
   "id": "5ffde5ab",
   "metadata": {},
   "outputs": [],
   "source": [
    "def getW(x,query_point,tao):\n",
    "    m = x.shape[0]\n",
    "    w = np.eye(m)\n",
    "    for i in range(m):\n",
    "        w[i,i] = np.exp(-(x[i] - query_point)*((x[i] -  query_point).T)/(2*tao*tao))\n",
    "    return w"
   ]
  },
  {
   "cell_type": "code",
   "execution_count": 6,
   "id": "284165c3",
   "metadata": {},
   "outputs": [],
   "source": [
    "x = data[:,0]\n",
    "y = data[:,1]\n",
    "one = np.ones((x.shape[0],1))\n",
    "x_ = np.mat( np.concatenate([one,x.reshape(-1,1)],axis = 1) )\n",
    "y_ = np.mat(y).reshape(-1,1)"
   ]
  },
  {
   "cell_type": "code",
   "execution_count": 7,
   "id": "e6b218ba",
   "metadata": {},
   "outputs": [
    {
     "data": {
      "text/plain": [
       "(200, 200)"
      ]
     },
     "execution_count": 7,
     "metadata": {},
     "output_type": "execute_result"
    }
   ],
   "source": [
    "getW(x_,np.mat([[1,0]]),1).shape"
   ]
  },
  {
   "cell_type": "code",
   "execution_count": 8,
   "id": "edc4ce87",
   "metadata": {},
   "outputs": [],
   "source": [
    "def predict(x,y,query_point,tao):\n",
    "    qx = np.mat([[1 , query_point]])\n",
    "    w = np.mat(getW(x,qx,tao))\n",
    "    # theta = inv(X'WX)*X'Wy\n",
    "    theta = np.linalg.pinv(x.T*(w*x))*x.T*(w*y)\n",
    "    return theta,qx*theta"
   ]
  },
  {
   "cell_type": "code",
   "execution_count": 9,
   "id": "2628b509",
   "metadata": {},
   "outputs": [
    {
     "data": {
      "text/plain": [
       "matrix([[3.12095569]])"
      ]
     },
     "execution_count": 9,
     "metadata": {},
     "output_type": "execute_result"
    }
   ],
   "source": [
    "predict(x_,y_,-1,1)[1]"
   ]
  },
  {
   "cell_type": "code",
   "execution_count": 10,
   "id": "6280583b",
   "metadata": {},
   "outputs": [],
   "source": [
    "def plotpred(tao):\n",
    "    xtest = np.linspace(-1,5,50)\n",
    "    ytest = []\n",
    "    for i in range(len(xtest)):\n",
    "        pred = predict(x_,y_,xtest[i],tao)[1]\n",
    "        ytest.append(pred)\n",
    "    ytest = np.array(ytest)\n",
    "    plt.scatter(x,y)\n",
    "    plt.scatter(xtest,ytest.reshape(-1,),c = 'red')\n",
    "    plt.show()\n",
    "        "
   ]
  },
  {
   "cell_type": "code",
   "execution_count": 11,
   "id": "9d5885a1",
   "metadata": {},
   "outputs": [
    {
     "data": {
      "image/png": "[encoded data removed]",
      "text/plain": [
       "<Figure size 432x288 with 1 Axes>"
      ]
     },
     "metadata": {
      "needs_background": "light"
     },
     "output_type": "display_data"
    }
   ],
   "source": [
    "plotpred(0.5)"
   ]
  },
  {
   "cell_type": "code",
   "execution_count": null,
   "id": "1778749b",
   "metadata": {},
   "outputs": [],
   "source": []
  },
  {
   "cell_type": "code",
   "execution_count": null,
   "id": "5a46c7ae",
   "metadata": {},
   "outputs": [],
   "source": []
  },
  {
   "cell_type": "code",
   "execution_count": null,
   "id": "a304a14d",
   "metadata": {},
   "outputs": [],
   "source": []
  }
 ],
 "metadata": {
  "kernelspec": {
   "display_name": "Python 3 (ipykernel)",
   "language": "python",
   "name": "python3"
  },
  "language_info": {
   "codemirror_mode": {
    "name": "ipython",
    "version": 3
   },
   "file_extension": ".py",
   "mimetype": "text/x-python",
   "name": "python",
   "nbconvert_exporter": "python",
   "pygments_lexer": "ipython3",
   "version": "3.9.9"
  }
 },
 "nbformat": 4,
 "nbformat_minor": 5
}
